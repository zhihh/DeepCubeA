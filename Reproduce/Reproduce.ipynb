{
 "cells": [
  {
   "cell_type": "code",
   "execution_count": 3,
   "id": "9097dccb",
   "metadata": {},
   "outputs": [
    {
     "data": {
      "text/plain": [
       "Namespace(env='cube3', debug=False, lr=0.001, lr_d=0.9999993, max_itrs=1200000, batch_size=10000, single_gpu_training=False, loss_thresh=0.06, states_per_update=50000000, epochs_per_update=1, num_update_procs=30, update_nnet_batch_size=10000, max_update_gbfs_steps=1, eps_max=0, num_test=10000, back_max=30, nnet_name='cube3', update_num=0, save_dir='saved_models', targ_dir='saved_models/cube3//target/', curr_dir='saved_models/cube3//current/', output_save_loc='saved_models/cube3//output.txt')"
      ]
     },
     "execution_count": 3,
     "metadata": {},
     "output_type": "execute_result"
    }
   ],
   "source": [
    "# 看一下pickle数据\n",
    "import pickle\n",
    "\n",
    "dir = 'data/puzzle15/test/data_test.pkl'\n",
    "dir = '../saved_models/cube3/args.pkl'\n",
    "# 检查目标格式\n",
    "data = pickle.load(open(dir, 'rb'))\n",
    "# print('目标keys:', list(data.keys()))\n",
    "data\n"
   ]
  },
  {
   "cell_type": "code",
   "execution_count": 4,
   "id": "702e08b8",
   "metadata": {},
   "outputs": [
    {
     "name": "stdout",
     "output_type": "stream",
     "text": [
      "Number 1 first appears, Itr: Itr: 5000, lr: 9.97E-04, loss: 0.90, targ_ctg: 1.88, nnet_ctg: 0.96, Time: 7.69\n",
      "Number 2 first appears, Itr: Itr: 10000, lr: 9.93E-04, loss: 0.87, targ_ctg: 2.77, nnet_ctg: 1.89, Time: 7.02\n",
      "Number 3 first appears, Itr: Itr: 15000, lr: 9.90E-04, loss: 0.81, targ_ctg: 3.59, nnet_ctg: 2.76, Time: 6.96\n",
      "Number 4 first appears, Itr: Itr: 20000, lr: 9.86E-04, loss: 0.78, targ_ctg: 4.39, nnet_ctg: 3.59, Time: 6.68\n",
      "Number 5 first appears, Itr: Itr: 25000, lr: 9.83E-04, loss: 0.72, targ_ctg: 5.13, nnet_ctg: 4.39, Time: 6.82\n",
      "Number 6 first appears, Itr: Itr: 30000, lr: 9.79E-04, loss: 0.70, targ_ctg: 5.81, nnet_ctg: 5.10, Time: 7.14\n",
      "Number 7 first appears, Itr: Itr: 35000, lr: 9.76E-04, loss: 0.65, targ_ctg: 6.51, nnet_ctg: 5.85, Time: 9.91\n",
      "Number 8 first appears, Itr: Itr: 40000, lr: 9.72E-04, loss: 0.58, targ_ctg: 7.13, nnet_ctg: 6.54, Time: 7.62\n",
      "Number 9 first appears, Itr: Itr: 45000, lr: 9.69E-04, loss: 0.54, targ_ctg: 7.64, nnet_ctg: 7.09, Time: 7.01\n",
      "Number 10 first appears, Itr: Itr: 50000, lr: 9.66E-04, loss: 0.46, targ_ctg: 8.08, nnet_ctg: 7.60, Time: 9.76\n",
      "Number 11 first appears, Itr: Itr: 55000, lr: 9.62E-04, loss: 0.39, targ_ctg: 8.58, nnet_ctg: 8.17, Time: 7.45\n",
      "Number 12 first appears, Itr: Itr: 90000, lr: 9.39E-04, loss: 0.32, targ_ctg: 8.81, nnet_ctg: 8.47, Time: 6.66\n",
      "Number 13 first appears, Itr: Itr: 195000, lr: 8.72E-04, loss: 0.25, targ_ctg: 9.11, nnet_ctg: 8.84, Time: 7.57\n"
     ]
    }
   ],
   "source": [
    "def find_first_occurrences(file_path):\n",
    "    results = {}\n",
    "    with open(file_path, 'r') as file:\n",
    "        lines = file.readlines()\n",
    "        for i in range(len(lines) - 1):\n",
    "            # 检查当前行是否包含数字 n\n",
    "            for n in range(1, 14):\n",
    "                if f\"number {n}\" in lines[i] and n not in results:\n",
    "                    # 获取下一行内容\n",
    "                    results[n] = lines[i + 1].strip()\n",
    "    return results\n",
    "\n",
    "\n",
    "file_path = \"../saved_models/cube3/output.txt\"\n",
    "results = find_first_occurrences(file_path)\n",
    "\n",
    "# 输出结果\n",
    "for n in range(1, 14):\n",
    "    if n in results:\n",
    "        print(f\"Number {n} first appears, Itr: {results[n]}\")\n",
    "    else:\n",
    "        print(f\"Number {n} not found in the file.\")"
   ]
  },
  {
   "cell_type": "code",
   "execution_count": null,
   "id": "ac73b342",
   "metadata": {},
   "outputs": [],
   "source": []
  }
 ],
 "metadata": {
  "kernelspec": {
   "display_name": "paper",
   "language": "python",
   "name": "python3"
  },
  "language_info": {
   "codemirror_mode": {
    "name": "ipython",
    "version": 3
   },
   "file_extension": ".py",
   "mimetype": "text/x-python",
   "name": "python",
   "nbconvert_exporter": "python",
   "pygments_lexer": "ipython3",
   "version": "3.9.18"
  }
 },
 "nbformat": 4,
 "nbformat_minor": 5
}
